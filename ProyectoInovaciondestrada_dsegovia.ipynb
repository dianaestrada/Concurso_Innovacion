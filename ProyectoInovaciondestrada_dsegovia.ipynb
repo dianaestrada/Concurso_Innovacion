{
  "nbformat": 4,
  "nbformat_minor": 0,
  "metadata": {
    "colab": {
      "provenance": []
    },
    "kernelspec": {
      "name": "python3",
      "display_name": "Python 3"
    },
    "language_info": {
      "name": "python"
    }
  },
  "cells": [
    {
      "cell_type": "code",
      "execution_count": null,
      "metadata": {
        "colab": {
          "base_uri": "https://localhost:8080/"
        },
        "id": "2AIa40alNj34",
        "outputId": "8100fb9f-c4a6-4b24-a4ea-32fcabb17e25"
      },
      "outputs": [
        {
          "output_type": "stream",
          "name": "stdout",
          "text": [
            "Mounted at /content/drive\n"
          ]
        }
      ],
      "source": [
        "from google.colab import drive\n",
        "drive.mount('/content/drive')\n"
      ]
    },
    {
      "cell_type": "code",
      "source": [
        "zip_path = \"/content/drive/MyDrive/covid_radiography.zip\"\n",
        "\n"
      ],
      "metadata": {
        "id": "0zIWhJwmN07r"
      },
      "execution_count": null,
      "outputs": []
    },
    {
      "cell_type": "code",
      "source": [
        "import os\n",
        "\n",
        "print(os.listdir('/content/drive/MyDrive'))\n",
        "\n"
      ],
      "metadata": {
        "colab": {
          "base_uri": "https://localhost:8080/"
        },
        "id": "jnUFB5O7N-iD",
        "outputId": "12bbafcd-da7b-4e73-abd6-9ac8a8524e34"
      },
      "execution_count": null,
      "outputs": [
        {
          "output_type": "stream",
          "name": "stdout",
          "text": [
            "['Colab Notebooks', 'Ingeniería de software II', 'DesarrolloSoftwareI', 'NAC', 'Base Datos II', 'Diagrama sin título (1).drawio', 'Proyecto_PISIP.rar', 'Diagrama sin título.drawio', 'PISIB GRUPO 2', 'BASEDATOSIIDE', 'BASEDATOSIIDE.rar', 'INFORME PISIP GRUPO 2.pdf', 'Pruebas Desarrollo', 'Mineria datos', 'Ayudas', 'Desarrollo Software II', 'Documento sin título (15).gdoc', 'Documento sin título (14).gdoc', 'Documento sin título (13).gdoc', 'Proyecto Desarrollo Software II', 'Documento sin título (12).gdoc', 'Documento sin título (11).gdoc', 'Documento sin título (10).gdoc', 'Documento sin título (9).gdoc', 'Documento sin título (8).gdoc', 'Documento sin título (7).gdoc', 'Documento sin título (6).gdoc', 'Documento sin título (5).gdoc', 'image.png', 'Informe Final.gdoc', 'Documento sin título (4).gdoc', 'Avance Semana 3.docx', 'Informe Final Proyecto.docx', 'Video.mp4', 'U1S2_BCP.pdf', 'Octavo Semestre', 'Ingles', 'Test de autoevaluación en blanco.gform', 'Formulario de Inscripción a Capacitación ANAE.gform', 'IA', 'Hoja de cálculo sin título (1).gsheet', 'Oral Questions students (1).pdf', 'Vinculacion', 'Hoja de cálculo sin título.gsheet', 'Video Intermedio 2 DianaEstrada.mp4', 'Documento sin título (3).gdoc', 'Documento sin título (2).gdoc', 'Documento sin título (1).gdoc', 'Documento sin título.gdoc', 'TareaS7_DianaEstrada_GiovannyEstrada.docx', 'Trabajo de titulacion', 'COVID']\n"
          ]
        }
      ]
    },
    {
      "cell_type": "markdown",
      "source": [],
      "metadata": {
        "id": "mFCL2I76N0ut"
      }
    },
    {
      "cell_type": "code",
      "source": [
        "import zipfile\n",
        "\n",
        "zip_path = '/content/drive/MyDrive/Dataset_COVID.zip'\n",
        "\n",
        "with zipfile.ZipFile(zip_path, 'r') as zip_ref:\n",
        "    zip_ref.extractall('Dataset_COVID')  # Se extrae dentro de la carpeta Dataset_COVID en Colab\n",
        "\n"
      ],
      "metadata": {
        "id": "ZomtPtf7QTCw"
      },
      "execution_count": null,
      "outputs": []
    },
    {
      "cell_type": "code",
      "source": [
        "import zipfile\n",
        "\n",
        "zip_path = '/content/drive/MyDrive/Dataset_COVID.zip'  # Ajusta si cambia la ruta\n",
        "target_folders = ['COVID/', 'Normal/', 'ViralPneumonia/']\n",
        "\n",
        "with zipfile.ZipFile(zip_path, 'r') as zip_ref:\n",
        "    for file in zip_ref.namelist():\n",
        "        # Extrae solo si el archivo pertenece a las carpetas necesarias\n",
        "        if any(file.startswith(folder) for folder in target_folders):\n",
        "            zip_ref.extract(file, path='/content/Dataset_COVID_partial')\n",
        "\n",
        "print(\"Extracción parcial completada.\")\n",
        "\n"
      ],
      "metadata": {
        "colab": {
          "base_uri": "https://localhost:8080/"
        },
        "id": "ruXgDkMrQxnC",
        "outputId": "bb19eaf7-539a-455d-bef0-444aa934f1c0"
      },
      "execution_count": null,
      "outputs": [
        {
          "output_type": "stream",
          "name": "stdout",
          "text": [
            "Extracción parcial completada.\n"
          ]
        }
      ]
    },
    {
      "cell_type": "code",
      "source": [
        "input_path = '/content/Dataset_COVID/COVID-19_Radiography_Dataset'\n",
        "import os\n",
        "\n",
        "input_path = '/content/Dataset_COVID/COVID-19_Radiography_Dataset'\n",
        "\n",
        "# Listar solo carpetas (clases)\n",
        "classes = [d for d in os.listdir(input_path) if os.path.isdir(os.path.join(input_path, d))]\n",
        "print(classes)\n"
      ],
      "metadata": {
        "colab": {
          "base_uri": "https://localhost:8080/"
        },
        "id": "Ny57lJHHRRz7",
        "outputId": "6cd521bc-6f22-490f-b77b-1839f0912210"
      },
      "execution_count": null,
      "outputs": [
        {
          "output_type": "stream",
          "name": "stdout",
          "text": [
            "['Normal', 'Viral Pneumonia', 'COVID', 'Lung_Opacity']\n"
          ]
        }
      ]
    },
    {
      "cell_type": "code",
      "source": [
        "import os\n",
        "import cv2\n",
        "from tqdm import tqdm\n",
        "\n",
        "input_path = '/content/Dataset_COVID/COVID-19_Radiography_Dataset'\n",
        "output_path = '/content/Dataset_COVID_resized'\n",
        "\n",
        "def resize_images(target_size=(224, 224)):\n",
        "    # Obtener solo carpetas (clases)\n",
        "    classes = [d for d in os.listdir(input_path) if os.path.isdir(os.path.join(input_path, d))]\n",
        "\n",
        "    for cls in classes:\n",
        "        input_dir = os.path.join(input_path, cls)\n",
        "        output_dir = os.path.join(output_path, cls)\n",
        "\n",
        "        # Crear carpeta destino si no existe\n",
        "        if not os.path.exists(output_dir):\n",
        "            os.makedirs(output_dir)\n",
        "\n",
        "        # Procesar cada imagen en la carpeta\n",
        "        for img_name in tqdm(os.listdir(input_dir), desc=f'Resizing {cls}'):\n",
        "            img_path = os.path.join(input_dir, img_name)\n",
        "            img = cv2.imread(img_path)\n",
        "            if img is not None:\n",
        "                resized_img = cv2.resize(img, target_size)\n",
        "                cv2.imwrite(os.path.join(output_dir, img_name), resized_img)\n",
        "            else:\n",
        "                print(f\"Warning: no se pudo leer imagen {img_path}\")\n",
        "\n",
        "resize_images()\n",
        "print(\"Redimensionamiento completo.\")\n",
        "\n"
      ],
      "metadata": {
        "colab": {
          "base_uri": "https://localhost:8080/"
        },
        "id": "E5tYG2N7VNja",
        "outputId": "6e2a4b2a-83cf-45c6-bebe-131117afa33d"
      },
      "execution_count": null,
      "outputs": [
        {
          "output_type": "stream",
          "name": "stderr",
          "text": [
            "Resizing Normal: 100%|██████████| 2/2 [00:00<00:00, 155.40it/s]\n"
          ]
        },
        {
          "output_type": "stream",
          "name": "stdout",
          "text": [
            "Warning: no se pudo leer imagen /content/Dataset_COVID/COVID-19_Radiography_Dataset/Normal/masks\n",
            "Warning: no se pudo leer imagen /content/Dataset_COVID/COVID-19_Radiography_Dataset/Normal/images\n"
          ]
        },
        {
          "output_type": "stream",
          "name": "stderr",
          "text": [
            "Resizing Viral Pneumonia: 100%|██████████| 2/2 [00:00<00:00, 2314.10it/s]\n"
          ]
        },
        {
          "output_type": "stream",
          "name": "stdout",
          "text": [
            "Warning: no se pudo leer imagen /content/Dataset_COVID/COVID-19_Radiography_Dataset/Viral Pneumonia/masks\n",
            "Warning: no se pudo leer imagen /content/Dataset_COVID/COVID-19_Radiography_Dataset/Viral Pneumonia/images\n"
          ]
        },
        {
          "output_type": "stream",
          "name": "stderr",
          "text": [
            "Resizing COVID: 100%|██████████| 2/2 [00:00<00:00, 3463.50it/s]\n"
          ]
        },
        {
          "output_type": "stream",
          "name": "stdout",
          "text": [
            "Warning: no se pudo leer imagen /content/Dataset_COVID/COVID-19_Radiography_Dataset/COVID/masks\n",
            "Warning: no se pudo leer imagen /content/Dataset_COVID/COVID-19_Radiography_Dataset/COVID/images\n"
          ]
        },
        {
          "output_type": "stream",
          "name": "stderr",
          "text": [
            "Resizing Lung_Opacity: 100%|██████████| 2/2 [00:00<00:00, 8867.45it/s]"
          ]
        },
        {
          "output_type": "stream",
          "name": "stdout",
          "text": [
            "Warning: no se pudo leer imagen /content/Dataset_COVID/COVID-19_Radiography_Dataset/Lung_Opacity/masks\n",
            "Warning: no se pudo leer imagen /content/Dataset_COVID/COVID-19_Radiography_Dataset/Lung_Opacity/images\n",
            "Redimensionamiento completo.\n"
          ]
        },
        {
          "output_type": "stream",
          "name": "stderr",
          "text": [
            "\n"
          ]
        }
      ]
    },
    {
      "cell_type": "code",
      "source": [
        "import torch\n",
        "import torchvision\n",
        "from torchvision import datasets, transforms\n",
        "from torch.utils.data import DataLoader\n",
        "import os\n"
      ],
      "metadata": {
        "id": "WO2LZo2pVzgT"
      },
      "execution_count": null,
      "outputs": []
    },
    {
      "cell_type": "code",
      "source": [
        "transform = transforms.Compose([\n",
        "    transforms.Resize((224, 224)),  # redimensionar\n",
        "    transforms.ToTensor(),           # convertir a tensor\n",
        "    transforms.Normalize([0.485, 0.456, 0.406],  # normalización estándar imagen RGB\n",
        "                         [0.229, 0.224, 0.225])\n",
        "])\n"
      ],
      "metadata": {
        "id": "gr2PcDnQV-9y"
      },
      "execution_count": null,
      "outputs": []
    },
    {
      "cell_type": "code",
      "source": [
        "import os\n",
        "import shutil\n",
        "\n",
        "# Ruta de origen\n",
        "src_base = '/content/Dataset_COVID/COVID-19_Radiography_Dataset'\n",
        "# Ruta destino limpia\n",
        "dst_base = '/content/Dataset_COVID_clean'\n",
        "\n",
        "# Nombres de las clases\n",
        "clases = ['COVID', 'Normal', 'Viral Pneumonia', 'Lung_Opacity']\n",
        "\n",
        "# Creamos la nueva estructura\n",
        "for cls in clases:\n",
        "    src_imgs = os.path.join(src_base, cls, 'images')\n",
        "    dst_imgs = os.path.join(dst_base, cls)\n",
        "    os.makedirs(dst_imgs, exist_ok=True)\n",
        "\n",
        "    # Copiar solo imágenes (.png, .jpg, .jpeg)\n",
        "    for fname in os.listdir(src_imgs):\n",
        "        if fname.lower().endswith(('.png', '.jpg', '.jpeg')):\n",
        "            shutil.copy(os.path.join(src_imgs, fname), os.path.join(dst_imgs, fname))\n",
        "\n",
        "print(\"✅ Reorganización completada.\")\n",
        "\n"
      ],
      "metadata": {
        "colab": {
          "base_uri": "https://localhost:8080/"
        },
        "id": "pBmlksysWAvc",
        "outputId": "1c078120-d36c-494e-a2f0-6c9445cdc0bc"
      },
      "execution_count": null,
      "outputs": [
        {
          "output_type": "stream",
          "name": "stdout",
          "text": [
            "✅ Reorganización completada.\n"
          ]
        }
      ]
    },
    {
      "cell_type": "code",
      "source": [
        "from torchvision import transforms\n",
        "from torchvision.datasets import ImageFolder\n",
        "from torch.utils.data import DataLoader, random_split\n",
        "\n",
        "# Ruta a la carpeta limpia\n",
        "data_dir = '/content/Dataset_COVID_clean'\n",
        "\n",
        "# Transformaciones (redimensionar, convertir a tensor y normalizar)\n",
        "transform = transforms.Compose([\n",
        "    transforms.Resize((224, 224)),\n",
        "    transforms.ToTensor(),\n",
        "    transforms.Normalize([0.5], [0.5])  # Normalización simple, puedes ajustarla\n",
        "])\n",
        "\n",
        "# Cargar dataset\n",
        "dataset = ImageFolder(root=data_dir, transform=transform)\n",
        "\n",
        "# Dividir en entrenamiento y validación (80%-20%)\n",
        "train_size = int(0.8 * len(dataset))\n",
        "val_size = len(dataset) - train_size\n",
        "train_dataset, val_dataset = random_split(dataset, [train_size, val_size])\n",
        "\n",
        "# DataLoaders\n",
        "train_loader = DataLoader(train_dataset, batch_size=32, shuffle=True)\n",
        "val_loader = DataLoader(val_dataset, batch_size=32)\n",
        "\n",
        "print(\"✅ Dataset cargado y dividido en entrenamiento y validación.\")\n",
        "print(\"Clases:\", dataset.classes)\n"
      ],
      "metadata": {
        "colab": {
          "base_uri": "https://localhost:8080/"
        },
        "id": "LxNUdGmBXI94",
        "outputId": "709cc08f-b95c-4ade-c937-670f236c8955"
      },
      "execution_count": null,
      "outputs": [
        {
          "output_type": "stream",
          "name": "stdout",
          "text": [
            "✅ Dataset cargado y dividido en entrenamiento y validación.\n",
            "Clases: ['COVID', 'Lung_Opacity', 'Normal', 'Viral Pneumonia']\n"
          ]
        }
      ]
    },
    {
      "cell_type": "code",
      "source": [
        "import torch\n",
        "import torch.nn as nn\n",
        "import torchvision.models as models\n",
        "\n",
        "# Cargar modelo ResNet18 preentrenado\n",
        "model = models.resnet18(pretrained=True)\n",
        "\n",
        "# Congelar las capas convolucionales (opcional: para transfer learning)\n",
        "for param in model.parameters():\n",
        "    param.requires_grad = False\n",
        "\n",
        "# Reemplazar la capa final para 4 clases\n",
        "num_ftrs = model.fc.in_features\n",
        "model.fc = nn.Linear(num_ftrs, 4)  # 4 clases: COVID, Lung_Opacity, Normal, Viral Pneumonia\n",
        "\n",
        "# Enviar el modelo a la GPU si está disponible\n",
        "device = torch.device(\"cuda\" if torch.cuda.is_available() else \"cpu\")\n",
        "model = model.to(device)\n",
        "\n",
        "print(\"✅ Modelo ResNet18 adaptado para clasificación en 4 clases.\")\n"
      ],
      "metadata": {
        "colab": {
          "base_uri": "https://localhost:8080/"
        },
        "id": "-hD7q6ZbXWTv",
        "outputId": "a97e31ed-d018-4647-930b-cf97028fef9f"
      },
      "execution_count": null,
      "outputs": [
        {
          "output_type": "stream",
          "name": "stderr",
          "text": [
            "/usr/local/lib/python3.11/dist-packages/torchvision/models/_utils.py:208: UserWarning: The parameter 'pretrained' is deprecated since 0.13 and may be removed in the future, please use 'weights' instead.\n",
            "  warnings.warn(\n",
            "/usr/local/lib/python3.11/dist-packages/torchvision/models/_utils.py:223: UserWarning: Arguments other than a weight enum or `None` for 'weights' are deprecated since 0.13 and may be removed in the future. The current behavior is equivalent to passing `weights=ResNet18_Weights.IMAGENET1K_V1`. You can also use `weights=ResNet18_Weights.DEFAULT` to get the most up-to-date weights.\n",
            "  warnings.warn(msg)\n",
            "Downloading: \"https://download.pytorch.org/models/resnet18-f37072fd.pth\" to /root/.cache/torch/hub/checkpoints/resnet18-f37072fd.pth\n",
            "100%|██████████| 44.7M/44.7M [00:00<00:00, 95.0MB/s]\n"
          ]
        },
        {
          "output_type": "stream",
          "name": "stdout",
          "text": [
            "✅ Modelo ResNet18 adaptado para clasificación en 4 clases.\n"
          ]
        }
      ]
    },
    {
      "cell_type": "code",
      "source": [
        "import torch\n",
        "import torch.nn as nn\n",
        "import torch.optim as optim\n",
        "from tqdm import tqdm\n",
        "\n",
        "# Parámetros\n",
        "num_epochs = 5           # Puedes ajustar (idealmente 10–15 si el tiempo y RAM lo permiten)\n",
        "learning_rate = 1e-3\n",
        "\n",
        "# Definimos la función de pérdida y el optimizador (solo para la capa fc, ya que congelamos el resto)\n",
        "criterion = nn.CrossEntropyLoss()\n",
        "optimizer = optim.Adam(model.fc.parameters(), lr=learning_rate)\n",
        "\n",
        "# Función para entrenar durante una época\n",
        "def train_one_epoch(model, loader, criterion, optimizer, device):\n",
        "    model.train()\n",
        "    running_loss = 0.0\n",
        "    running_corrects = 0\n",
        "    total_samples = 0\n",
        "\n",
        "    for inputs, labels in tqdm(loader, desc=\"Entrenando\"):\n",
        "        inputs = inputs.to(device)\n",
        "        labels = labels.to(device)\n",
        "\n",
        "        optimizer.zero_grad()\n",
        "        outputs = model(inputs)\n",
        "        loss = criterion(outputs, labels)\n",
        "        loss.backward()\n",
        "        optimizer.step()\n",
        "\n",
        "        # Métricas\n",
        "        _, preds = torch.max(outputs, 1)\n",
        "        running_loss += loss.item() * inputs.size(0)\n",
        "        running_corrects += (preds == labels).sum().item()\n",
        "        total_samples += inputs.size(0)\n",
        "\n",
        "    epoch_loss = running_loss / total_samples\n",
        "    epoch_acc = running_corrects / total_samples\n",
        "    return epoch_loss, epoch_acc\n",
        "\n",
        "# Función para validar durante una época\n",
        "def validate_one_epoch(model, loader, criterion, device):\n",
        "    model.eval()\n",
        "    val_loss = 0.0\n",
        "    val_corrects = 0\n",
        "    total_samples = 0\n",
        "\n",
        "    with torch.no_grad():\n",
        "        for inputs, labels in tqdm(loader, desc=\"Validando\"):\n",
        "            inputs = inputs.to(device)\n",
        "            labels = labels.to(device)\n",
        "\n",
        "            outputs = model(inputs)\n",
        "            loss = criterion(outputs, labels)\n",
        "\n",
        "            _, preds = torch.max(outputs, 1)\n",
        "            val_loss += loss.item() * inputs.size(0)\n",
        "            val_corrects += (preds == labels).sum().item()\n",
        "            total_samples += inputs.size(0)\n",
        "\n",
        "    epoch_loss = val_loss / total_samples\n",
        "    epoch_acc = val_corrects / total_samples\n",
        "    return epoch_loss, epoch_acc\n",
        "\n",
        "# Bucle principal de entrenamiento\n",
        "best_val_acc = 0.0\n",
        "\n",
        "for epoch in range(num_epochs):\n",
        "    train_loss, train_acc = train_one_epoch(model, train_loader, criterion, optimizer, device)\n",
        "    val_loss, val_acc = validate_one_epoch(model, val_loader, criterion, device)\n",
        "\n",
        "    print(f\"\\nÉpoca {epoch+1}/{num_epochs}\")\n",
        "    print(f\"  → Train Loss: {train_loss:.4f}   Train Acc: {train_acc:.4f}\")\n",
        "    print(f\"  → Val   Loss: {val_loss:.4f}   Val   Acc: {val_acc:.4f}\")\n",
        "\n",
        "    # Guardar el mejor modelo\n",
        "    if val_acc > best_val_acc:\n",
        "        best_val_acc = val_acc\n",
        "        torch.save(model.state_dict(), \"/content/best_resnet18.pth\")\n",
        "        print(\"  ⏺ Guardado modelo con mejor validación.\")\n",
        "\n",
        "print(f\"\\n✅ Entrenamiento completado. Mejor Val Acc: {best_val_acc:.4f}\")\n"
      ],
      "metadata": {
        "colab": {
          "base_uri": "https://localhost:8080/"
        },
        "id": "HRV2qZCDXmDS",
        "outputId": "af119e47-118a-462d-de5c-620bca71a6be"
      },
      "execution_count": null,
      "outputs": [
        {
          "metadata": {
            "tags": null
          },
          "name": "stderr",
          "output_type": "stream",
          "text": [
            "Entrenando: 100%|██████████| 530/530 [32:13<00:00,  3.65s/it]\n",
            "Validando: 100%|██████████| 133/133 [07:30<00:00,  3.39s/it]\n"
          ]
        },
        {
          "metadata": {
            "tags": null
          },
          "name": "stdout",
          "output_type": "stream",
          "text": [
            "\n",
            "Época 1/5\n",
            "  → Train Loss: 0.6324   Train Acc: 0.7612\n",
            "  → Val   Loss: 0.4922   Val   Acc: 0.8131\n",
            "  ⏺ Guardado modelo con mejor validación.\n"
          ]
        },
        {
          "metadata": {
            "tags": null
          },
          "name": "stderr",
          "output_type": "stream",
          "text": [
            "Entrenando: 100%|██████████| 530/530 [31:16<00:00,  3.54s/it]\n",
            "Validando: 100%|██████████| 133/133 [07:07<00:00,  3.22s/it]\n"
          ]
        },
        {
          "metadata": {
            "tags": null
          },
          "name": "stdout",
          "output_type": "stream",
          "text": [
            "\n",
            "Época 2/5\n",
            "  → Train Loss: 0.4827   Train Acc: 0.8213\n",
            "  → Val   Loss: 0.4452   Val   Acc: 0.8394\n",
            "  ⏺ Guardado modelo con mejor validación.\n"
          ]
        },
        {
          "metadata": {
            "tags": null
          },
          "name": "stderr",
          "output_type": "stream",
          "text": [
            "Entrenando: 100%|██████████| 530/530 [31:05<00:00,  3.52s/it]\n",
            "Validando: 100%|██████████| 133/133 [07:08<00:00,  3.23s/it]\n"
          ]
        },
        {
          "metadata": {
            "tags": null
          },
          "name": "stdout",
          "output_type": "stream",
          "text": [
            "\n",
            "Época 3/5\n",
            "  → Train Loss: 0.4510   Train Acc: 0.8288\n",
            "  → Val   Loss: 0.4397   Val   Acc: 0.8301\n"
          ]
        },
        {
          "metadata": {
            "tags": null
          },
          "name": "stderr",
          "output_type": "stream",
          "text": [
            "Entrenando: 100%|██████████| 530/530 [31:01<00:00,  3.51s/it]\n",
            "Validando: 100%|██████████| 133/133 [07:07<00:00,  3.21s/it]\n"
          ]
        },
        {
          "metadata": {
            "tags": null
          },
          "name": "stdout",
          "output_type": "stream",
          "text": [
            "\n",
            "Época 4/5\n",
            "  → Train Loss: 0.4313   Train Acc: 0.8424\n",
            "  → Val   Loss: 0.4302   Val   Acc: 0.8424\n",
            "  ⏺ Guardado modelo con mejor validación.\n"
          ]
        },
        {
          "output_type": "stream",
          "name": "stderr",
          "text": [
            "Entrenando: 100%|██████████| 530/530 [30:57<00:00,  3.50s/it]\n",
            "Validando: 100%|██████████| 133/133 [07:08<00:00,  3.22s/it]"
          ]
        },
        {
          "output_type": "stream",
          "name": "stdout",
          "text": [
            "\n",
            "Época 5/5\n",
            "  → Train Loss: 0.4204   Train Acc: 0.8438\n",
            "  → Val   Loss: 0.4191   Val   Acc: 0.8431\n",
            "  ⏺ Guardado modelo con mejor validación.\n",
            "\n",
            "✅ Entrenamiento completado. Mejor Val Acc: 0.8431\n"
          ]
        },
        {
          "output_type": "stream",
          "name": "stderr",
          "text": [
            "\n"
          ]
        }
      ]
    },
    {
      "cell_type": "code",
      "source": [
        "from sklearn.metrics import confusion_matrix, classification_report\n",
        "import seaborn as sns\n",
        "import matplotlib.pyplot as plt\n",
        "import numpy as np\n",
        "\n",
        "# Cargar mejor modelo\n",
        "model.load_state_dict(torch.load(\"/content/best_resnet18.pth\"))\n",
        "model.eval()\n",
        "\n",
        "# Obtener predicciones verdaderas y del modelo\n",
        "all_preds = []\n",
        "all_labels = []\n",
        "\n",
        "with torch.no_grad():\n",
        "    for inputs, labels in val_loader:\n",
        "        inputs = inputs.to(device)\n",
        "        outputs = model(inputs)\n",
        "        _, preds = torch.max(outputs, 1)\n",
        "\n",
        "        all_preds.extend(preds.cpu().numpy())\n",
        "        all_labels.extend(labels.cpu().numpy())\n",
        "# Mostrar matriz de confusión\n",
        "cm = confusion_matrix(all_labels, all_preds)\n",
        "class_names = dataset.classes\n",
        "\n",
        "plt.figure(figsize=(8,6))\n",
        "sns.heatmap(cm, annot=True, fmt='d', cmap='Blues',\n",
        "            xticklabels=class_names, yticklabels=class_names)\n",
        "plt.xlabel('Predicción')\n",
        "plt.ylabel('Real')\n",
        "plt.title('Matriz de Confusión')\n",
        "plt.show()\n",
        "\n",
        "# Reporte detallado\n",
        "print(\"\\nReporte de Clasificación:\\n\")\n",
        "print(classification_report(all_labels, all_preds, target_names=class_names))\n",
        "\n"
      ],
      "metadata": {
        "colab": {
          "base_uri": "https://localhost:8080/",
          "height": 819
        },
        "id": "07U8NEqXEI6p",
        "outputId": "48ab3e43-0c93-4aef-e292-5902e14ed56c"
      },
      "execution_count": null,
      "outputs": [
        {
          "output_type": "display_data",
          "data": {
            "text/plain": [
              "<Figure size 800x600 with 2 Axes>"
            ],
            "image/png": "[encoded data removed]"
          },
          "metadata": {}
        },
        {
          "output_type": "stream",
          "name": "stdout",
          "text": [
            "\n",
            "Reporte de Clasificación:\n",
            "\n",
            "                 precision    recall  f1-score   support\n",
            "\n",
            "          COVID       0.85      0.73      0.78       708\n",
            "   Lung_Opacity       0.84      0.75      0.79      1171\n",
            "         Normal       0.84      0.92      0.88      2087\n",
            "Viral Pneumonia       0.92      0.93      0.92       267\n",
            "\n",
            "       accuracy                           0.84      4233\n",
            "      macro avg       0.86      0.83      0.84      4233\n",
            "   weighted avg       0.84      0.84      0.84      4233\n",
            "\n"
          ]
        }
      ]
    },
    {
      "cell_type": "code",
      "source": [
        "import torch\n",
        "\n",
        "# Guardar el modelo entrenado\n",
        "model_path = \"/content/covid_model.pth\"\n",
        "torch.save(model.state_dict(), model_path)\n",
        "\n",
        "print(f\"Modelo guardado en: {model_path}\")\n"
      ],
      "metadata": {
        "colab": {
          "base_uri": "https://localhost:8080/"
        },
        "id": "SRRS2DRYIYlZ",
        "outputId": "2404b8e0-b2de-4c95-8039-afa73ceb468c"
      },
      "execution_count": null,
      "outputs": [
        {
          "output_type": "stream",
          "name": "stdout",
          "text": [
            "Modelo guardado en: /content/covid_model.pth\n"
          ]
        }
      ]
    },
    {
      "cell_type": "code",
      "source": [
        "!pip install onnx\n",
        "\n"
      ],
      "metadata": {
        "colab": {
          "base_uri": "https://localhost:8080/"
        },
        "id": "_oVR3K_wInRQ",
        "outputId": "f08aca75-3586-48fc-bbef-888760891d14"
      },
      "execution_count": null,
      "outputs": [
        {
          "output_type": "stream",
          "name": "stdout",
          "text": [
            "Collecting onnx\n",
            "  Downloading onnx-1.18.0-cp311-cp311-manylinux_2_17_x86_64.manylinux2014_x86_64.whl.metadata (6.9 kB)\n",
            "Requirement already satisfied: numpy>=1.22 in /usr/local/lib/python3.11/dist-packages (from onnx) (2.0.2)\n",
            "Requirement already satisfied: protobuf>=4.25.1 in /usr/local/lib/python3.11/dist-packages (from onnx) (5.29.4)\n",
            "Requirement already satisfied: typing_extensions>=4.7.1 in /usr/local/lib/python3.11/dist-packages (from onnx) (4.13.2)\n",
            "Downloading onnx-1.18.0-cp311-cp311-manylinux_2_17_x86_64.manylinux2014_x86_64.whl (17.6 MB)\n",
            "\u001b[2K   \u001b[90m━━━━━━━━━━━━━━━━━━━━━━━━━━━━━━━━━━━━━━━━\u001b[0m \u001b[32m17.6/17.6 MB\u001b[0m \u001b[31m41.2 MB/s\u001b[0m eta \u001b[36m0:00:00\u001b[0m\n",
            "\u001b[?25hInstalling collected packages: onnx\n",
            "Successfully installed onnx-1.18.0\n"
          ]
        }
      ]
    },
    {
      "cell_type": "code",
      "source": [
        "!pip install onnx\n",
        "\n",
        "import torch\n",
        "\n",
        "onnx_path = \"/content/covid_model.onnx\"\n",
        "example_input = torch.randn(1, 3, 224, 224)\n",
        "\n",
        "torch.onnx.export(\n",
        "    model,\n",
        "    example_input,\n",
        "    onnx_path,\n",
        "    export_params=True,\n",
        "    opset_version=11,\n",
        "    do_constant_folding=True,\n",
        "    input_names=['input'],\n",
        "    output_names=['output'],\n",
        "    dynamic_axes={'input': {0: 'batch_size'}, 'output': {0: 'batch_size'}}\n",
        ")\n",
        "\n",
        "print(f\"Modelo ONNX guardado en: {onnx_path}\")\n"
      ],
      "metadata": {
        "colab": {
          "base_uri": "https://localhost:8080/"
        },
        "id": "EXZ5RW2tJX5L",
        "outputId": "c8194fdf-ae4e-4b11-c1c8-966607d4c1e2"
      },
      "execution_count": null,
      "outputs": [
        {
          "output_type": "stream",
          "name": "stdout",
          "text": [
            "Requirement already satisfied: onnx in /usr/local/lib/python3.11/dist-packages (1.18.0)\n",
            "Requirement already satisfied: numpy>=1.22 in /usr/local/lib/python3.11/dist-packages (from onnx) (2.0.2)\n",
            "Requirement already satisfied: protobuf>=4.25.1 in /usr/local/lib/python3.11/dist-packages (from onnx) (5.29.4)\n",
            "Requirement already satisfied: typing_extensions>=4.7.1 in /usr/local/lib/python3.11/dist-packages (from onnx) (4.13.2)\n",
            "Modelo ONNX guardado en: /content/covid_model.onnx\n"
          ]
        }
      ]
    },
    {
      "cell_type": "code",
      "source": [
        "!pip install onnxruntime\n",
        "import onnxruntime as ort\n",
        "import numpy as np\n",
        "import torch\n",
        "\n",
        "# Ruta del modelo ONNX guardado\n",
        "onnx_path = \"/content/covid_model.onnx\"\n",
        "\n",
        "# Crear sesión ONNX Runtime\n",
        "ort_session = ort.InferenceSession(onnx_path)\n",
        "\n",
        "# Preparar un ejemplo de entrada,\n",
        "example_input = torch.randn(1, 3, 224, 224)\n",
        "\n",
        "# Convertir tensor de PyTorch a numpy\n",
        "ort_inputs = {ort_session.get_inputs()[0].name: example_input.numpy()}\n",
        "\n",
        "# Ejecutar inferencia\n",
        "ort_outs = ort_session.run(None, ort_inputs)\n",
        "\n",
        "print(\"Salida del modelo ONNX:\", ort_outs)\n"
      ],
      "metadata": {
        "colab": {
          "base_uri": "https://localhost:8080/"
        },
        "id": "msxkUHDrJt6i",
        "outputId": "447c97ea-2eb7-4f0f-ee8b-366610027edd"
      },
      "execution_count": null,
      "outputs": [
        {
          "output_type": "stream",
          "name": "stdout",
          "text": [
            "Collecting onnxruntime\n",
            "  Downloading onnxruntime-1.22.0-cp311-cp311-manylinux_2_27_x86_64.manylinux_2_28_x86_64.whl.metadata (4.5 kB)\n",
            "Collecting coloredlogs (from onnxruntime)\n",
            "  Downloading coloredlogs-15.0.1-py2.py3-none-any.whl.metadata (12 kB)\n",
            "Requirement already satisfied: flatbuffers in /usr/local/lib/python3.11/dist-packages (from onnxruntime) (25.2.10)\n",
            "Requirement already satisfied: numpy>=1.21.6 in /usr/local/lib/python3.11/dist-packages (from onnxruntime) (2.0.2)\n",
            "Requirement already satisfied: packaging in /usr/local/lib/python3.11/dist-packages (from onnxruntime) (24.2)\n",
            "Requirement already satisfied: protobuf in /usr/local/lib/python3.11/dist-packages (from onnxruntime) (5.29.4)\n",
            "Requirement already satisfied: sympy in /usr/local/lib/python3.11/dist-packages (from onnxruntime) (1.13.1)\n",
            "Collecting humanfriendly>=9.1 (from coloredlogs->onnxruntime)\n",
            "  Downloading humanfriendly-10.0-py2.py3-none-any.whl.metadata (9.2 kB)\n",
            "Requirement already satisfied: mpmath<1.4,>=1.1.0 in /usr/local/lib/python3.11/dist-packages (from sympy->onnxruntime) (1.3.0)\n",
            "Downloading onnxruntime-1.22.0-cp311-cp311-manylinux_2_27_x86_64.manylinux_2_28_x86_64.whl (16.4 MB)\n",
            "\u001b[2K   \u001b[90m━━━━━━━━━━━━━━━━━━━━━━━━━━━━━━━━━━━━━━━━\u001b[0m \u001b[32m16.4/16.4 MB\u001b[0m \u001b[31m51.8 MB/s\u001b[0m eta \u001b[36m0:00:00\u001b[0m\n",
            "\u001b[?25hDownloading coloredlogs-15.0.1-py2.py3-none-any.whl (46 kB)\n",
            "\u001b[2K   \u001b[90m━━━━━━━━━━━━━━━━━━━━━━━━━━━━━━━━━━━━━━━━\u001b[0m \u001b[32m46.0/46.0 kB\u001b[0m \u001b[31m2.8 MB/s\u001b[0m eta \u001b[36m0:00:00\u001b[0m\n",
            "\u001b[?25hDownloading humanfriendly-10.0-py2.py3-none-any.whl (86 kB)\n",
            "\u001b[2K   \u001b[90m━━━━━━━━━━━━━━━━━━━━━━━━━━━━━━━━━━━━━━━━\u001b[0m \u001b[32m86.8/86.8 kB\u001b[0m \u001b[31m5.6 MB/s\u001b[0m eta \u001b[36m0:00:00\u001b[0m\n",
            "\u001b[?25hInstalling collected packages: humanfriendly, coloredlogs, onnxruntime\n",
            "Successfully installed coloredlogs-15.0.1 humanfriendly-10.0 onnxruntime-1.22.0\n",
            "Salida del modelo ONNX: [array([[13.547906 ,  1.61348  , -6.5856113, -9.062792 ]], dtype=float32)]\n"
          ]
        }
      ]
    },
    {
      "cell_type": "code",
      "source": [
        "!pip install psutil"
      ],
      "metadata": {
        "colab": {
          "base_uri": "https://localhost:8080/"
        },
        "id": "sNYpEEX_KTeM",
        "outputId": "fee3809d-4276-4d72-d9a5-6513069c26af"
      },
      "execution_count": null,
      "outputs": [
        {
          "output_type": "stream",
          "name": "stdout",
          "text": [
            "Requirement already satisfied: psutil in /usr/local/lib/python3.11/dist-packages (5.9.5)\n"
          ]
        }
      ]
    },
    {
      "cell_type": "code",
      "source": [
        "import psutil\n",
        "import time\n",
        "import torch\n",
        "from torch.utils.data import DataLoader\n",
        "\n",
        "def monitor_inference_with_dataloader(model, device, dataset, batch_size=16, duration=None):\n",
        "\n",
        "    model.eval()\n",
        "    dataloader = DataLoader(dataset, batch_size=batch_size, shuffle=True)\n",
        "    process = psutil.Process()\n",
        "\n",
        "    start_time = time.time()\n",
        "    print(\"Iniciando monitoreo de CPU y RAM durante inferencia con DataLoader...\")\n",
        "\n",
        "    for batch_idx, (images, labels) in enumerate(dataloader):\n",
        "        if duration and (time.time() - start_time) > duration:\n",
        "            break\n",
        "\n",
        "        images = images.to(device)\n",
        "        with torch.no_grad():\n",
        "            outputs = model(images)\n",
        "\n",
        "        # Lectura uso CPU y RAM\n",
        "        cpu_percent = psutil.cpu_percent(interval=None)\n",
        "        mem_info = process.memory_info()\n",
        "        ram_mb = mem_info.rss / (1024 ** 2)\n",
        "\n",
        "        print(f\"Batch {batch_idx+1}: CPU Usage: {cpu_percent:.1f}% | RAM Usage: {ram_mb:.2f} MB\")\n",
        "\n",
        "    print(\"Monitoreo finalizado.\")\n",
        "\n",
        "monitor_inference_with_dataloader(model, device, val_dataset, batch_size=16, duration=30)\n"
      ],
      "metadata": {
        "colab": {
          "base_uri": "https://localhost:8080/"
        },
        "id": "Hy0fUEpKK5Ba",
        "outputId": "9efbaade-dee1-4a5d-d4f5-75e84172f096"
      },
      "execution_count": null,
      "outputs": [
        {
          "output_type": "stream",
          "name": "stdout",
          "text": [
            "Iniciando monitoreo de CPU y RAM durante inferencia con DataLoader...\n",
            "Batch 1: CPU Usage: 57.2% | RAM Usage: 936.49 MB\n",
            "Batch 2: CPU Usage: 54.9% | RAM Usage: 936.67 MB\n",
            "Batch 3: CPU Usage: 53.2% | RAM Usage: 939.50 MB\n",
            "Batch 4: CPU Usage: 80.9% | RAM Usage: 939.73 MB\n",
            "Batch 5: CPU Usage: 99.5% | RAM Usage: 939.73 MB\n",
            "Batch 6: CPU Usage: 83.1% | RAM Usage: 939.73 MB\n",
            "Batch 7: CPU Usage: 54.6% | RAM Usage: 939.73 MB\n",
            "Batch 8: CPU Usage: 53.7% | RAM Usage: 939.73 MB\n",
            "Batch 9: CPU Usage: 53.2% | RAM Usage: 939.73 MB\n",
            "Batch 10: CPU Usage: 57.8% | RAM Usage: 939.73 MB\n",
            "Batch 11: CPU Usage: 53.7% | RAM Usage: 939.73 MB\n",
            "Batch 12: CPU Usage: 53.2% | RAM Usage: 939.73 MB\n",
            "Batch 13: CPU Usage: 67.8% | RAM Usage: 939.73 MB\n",
            "Batch 14: CPU Usage: 99.8% | RAM Usage: 939.73 MB\n",
            "Batch 15: CPU Usage: 94.9% | RAM Usage: 939.73 MB\n",
            "Batch 16: CPU Usage: 53.9% | RAM Usage: 939.73 MB\n",
            "Batch 17: CPU Usage: 53.5% | RAM Usage: 939.73 MB\n",
            "Batch 18: CPU Usage: 54.6% | RAM Usage: 939.73 MB\n",
            "Batch 19: CPU Usage: 53.0% | RAM Usage: 939.73 MB\n",
            "Monitoreo finalizado.\n"
          ]
        }
      ]
    },
    {
      "cell_type": "code",
      "source": [
        "import onnxruntime as ort\n",
        "\n",
        "# Ruta al modelo ONNX en tu Google Drive\n",
        "modelo_path = '/content/drive/MyDrive/covid_classifier/covid_model.onnx'\n",
        "\n",
        "# Cargar el modelo\n",
        "session = ort.InferenceSession(modelo_path)\n",
        "\n",
        "print(\"✅ Modelo cargado correctamente.\")\n",
        "\n"
      ],
      "metadata": {
        "colab": {
          "base_uri": "https://localhost:8080/"
        },
        "id": "gAlJX-RtLFLc",
        "outputId": "f8bf3247-3098-4410-d08e-a215eaea62f8"
      },
      "execution_count": 64,
      "outputs": [
        {
          "output_type": "stream",
          "name": "stdout",
          "text": [
            "✅ Modelo cargado correctamente.\n"
          ]
        }
      ]
    },
    {
      "cell_type": "code",
      "source": [
        "import streamlit as st\n",
        "import numpy as np\n",
        "import pandas as pd\n",
        "import matplotlib.pyplot as plt\n",
        "\n",
        "st.title(\"Dashboard de Visualización - Proyecto COVID\")\n",
        "\n",
        "tiempo = np.arange(0, 10, 1)\n",
        "uso_cpu = np.random.uniform(20, 80, size=10)\n",
        "uso_ram = np.random.uniform(30, 70, size=10)\n",
        "\n",
        "# Mostrar gráfico de uso de CPU y RAM\n",
        "fig, ax = plt.subplots()\n",
        "ax.plot(tiempo, uso_cpu, label=\"CPU (%)\")\n",
        "ax.plot(tiempo, uso_ram, label=\"RAM (%)\")\n",
        "ax.set_xlabel(\"Tiempo (segundos)\")\n",
        "ax.set_ylabel(\"Uso (%)\")\n",
        "ax.set_title(\"Uso simulado de CPU y RAM durante el proceso\")\n",
        "ax.legend()\n",
        "\n",
        "st.pyplot(fig)\n",
        "\n",
        "# Métricas del modelo (ejemplo)\n",
        "metrics = {\n",
        "    \"Precisión\": 0.92,\n",
        "    \"Recall\": 0.89,\n",
        "    \"F1-Score\": 0.90,\n",
        "    \"Exactitud\": 0.91\n",
        "}\n",
        "\n",
        "st.subheader(\"Métricas del Modelo\")\n",
        "metrics_df = pd.DataFrame.from_dict(metrics, orient='index', columns=[\"Valor\"])\n",
        "st.table(metrics_df)\n",
        "\n",
        "\n",
        "st.bar_chart(metrics_df)\n",
        "\n",
        "\n"
      ],
      "metadata": {
        "colab": {
          "base_uri": "https://localhost:8080/",
          "height": 804
        },
        "id": "uAebN7eMyyDy",
        "outputId": "971def52-d3d2-4d4f-c808-4b65e902bab5"
      },
      "execution_count": 67,
      "outputs": [
        {
          "output_type": "stream",
          "name": "stderr",
          "text": [
            "2025-06-01 04:41:45.272 WARNING streamlit.runtime.scriptrunner_utils.script_run_context: Thread 'MainThread': missing ScriptRunContext! This warning can be ignored when running in bare mode.\n",
            "2025-06-01 04:41:45.655 \n",
            "  \u001b[33m\u001b[1mWarning:\u001b[0m to view this Streamlit app on a browser, run it with the following\n",
            "  command:\n",
            "\n",
            "    streamlit run /usr/local/lib/python3.11/dist-packages/colab_kernel_launcher.py [ARGUMENTS]\n",
            "2025-06-01 04:41:45.662 Thread 'MainThread': missing ScriptRunContext! This warning can be ignored when running in bare mode.\n",
            "2025-06-01 04:41:45.748 Thread 'MainThread': missing ScriptRunContext! This warning can be ignored when running in bare mode.\n",
            "2025-06-01 04:41:46.119 Thread 'MainThread': missing ScriptRunContext! This warning can be ignored when running in bare mode.\n",
            "2025-06-01 04:41:46.120 Thread 'MainThread': missing ScriptRunContext! This warning can be ignored when running in bare mode.\n",
            "2025-06-01 04:41:46.122 Thread 'MainThread': missing ScriptRunContext! This warning can be ignored when running in bare mode.\n",
            "2025-06-01 04:41:46.124 Thread 'MainThread': missing ScriptRunContext! This warning can be ignored when running in bare mode.\n",
            "2025-06-01 04:41:46.179 Thread 'MainThread': missing ScriptRunContext! This warning can be ignored when running in bare mode.\n",
            "2025-06-01 04:41:46.340 Thread 'MainThread': missing ScriptRunContext! This warning can be ignored when running in bare mode.\n",
            "2025-06-01 04:41:46.343 Thread 'MainThread': missing ScriptRunContext! This warning can be ignored when running in bare mode.\n",
            "2025-06-01 04:41:48.577 Thread 'MainThread': missing ScriptRunContext! This warning can be ignored when running in bare mode.\n",
            "2025-06-01 04:41:48.580 Thread 'MainThread': missing ScriptRunContext! This warning can be ignored when running in bare mode.\n"
          ]
        },
        {
          "output_type": "execute_result",
          "data": {
            "text/plain": [
              "DeltaGenerator()"
            ]
          },
          "metadata": {},
          "execution_count": 67
        },
        {
          "output_type": "display_data",
          "data": {
            "text/plain": [
              "<Figure size 640x480 with 1 Axes>"
            ],
            "image/png": "[encoded data removed]"
          },
          "metadata": {}
        }
      ]
    }
  ]
}